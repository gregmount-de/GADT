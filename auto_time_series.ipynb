{
 "cells": [
  {
   "cell_type": "markdown",
   "metadata": {},
   "source": [
    "# Import Libraries"
   ]
  },
  {
   "cell_type": "code",
   "execution_count": 10,
   "metadata": {},
   "outputs": [],
   "source": [
    "import requests\n",
    "import pandas as pd\n",
    "import numpy as np\n",
    "\n",
    "import warnings\n",
    "from pandas.core.common import SettingWithCopyWarning\n",
    "warnings.simplefilter(action=\"ignore\", category=SettingWithCopyWarning)\n",
    "\n",
    "import matplotlib.pyplot as plt\n",
    "import ipywidgets as widgets\n",
    "from ipywidgets import interact, interactive, fixed, interact_manual\n",
    "\n",
    "import seaborn as sns"
   ]
  },
  {
   "cell_type": "markdown",
   "metadata": {},
   "source": [
    "# Define Functions"
   ]
  },
  {
   "cell_type": "code",
   "execution_count": 2,
   "metadata": {},
   "outputs": [],
   "source": [
    "# takes a data set in wide format (dates in columns) and converts to long format (dates in rows)\n",
    "\n",
    "def wide_to_long(df, pat1, var_nm, val_nm):\n",
    "\n",
    "    import pandas as pd\n",
    "    \n",
    "    id_cols = []\n",
    "    value_cols = []\n",
    "\n",
    "    for cols in df.columns:\n",
    "\n",
    "        try:\n",
    "        \n",
    "            if cols.find(pat1) == -1:\n",
    "                id_cols.append(cols)\n",
    "\n",
    "            else:\n",
    "\n",
    "                if cols.find(pat1) != -1:\n",
    "                    value_cols.append(cols)\n",
    "                    \n",
    "        except:\n",
    "            \n",
    "            value_cols.append(cols)\n",
    "                \n",
    "    df=(pd.melt(df, \n",
    "             id_vars=id_cols, \n",
    "             value_vars=value_cols)\n",
    "       .rename(columns = {\n",
    "           'variable': var_nm, \n",
    "           'value': val_nm}))\n",
    "\n",
    "    df=df.loc[df[val_nm] > 0].reset_index()\n",
    "    \n",
    "    return df"
   ]
  },
  {
   "cell_type": "code",
   "execution_count": 3,
   "metadata": {},
   "outputs": [],
   "source": [
    "# prepares dataframe for seasonal adjustment\n",
    "\n",
    "def seas_prep(df,\n",
    "             date_col, \n",
    "             cat_col, \n",
    "             value_col):\n",
    "    \n",
    "    agg_date_cols=[cat_col] \n",
    "\n",
    "    agg_date_cols.append(date_col)\n",
    "\n",
    "    df_sa_dates=(df\n",
    "                 .groupby(cat_col)\n",
    "                 .agg({date_col: ['min', 'max']})\n",
    "                 .reset_index())\n",
    "\n",
    "    df_sa_dates.columns = ['_'.join(tup).rstrip('_') for tup in df_sa_dates.columns.values]\n",
    "    \n",
    "    df_sa=(df\n",
    "          .groupby(agg_date_cols)[value_col]\n",
    "          .sum()\n",
    "          .reset_index()\n",
    "          .pivot_table(index=[date_col], columns=cat_col)[value_col]\n",
    "          .fillna(0)\n",
    "          .stack()\n",
    "          .reset_index()\n",
    "          .rename(columns = {0:value_col})\n",
    "          .merge(df_sa_dates))\n",
    "    \n",
    "    df_sa=df_sa.loc[(df_sa[date_col] >= df_sa[date_col+\"_min\"]) &\n",
    "                    (df_sa[date_col] <= df_sa[date_col+\"_max\"])\n",
    "                   ]\n",
    "       \n",
    "    return df_sa"
   ]
  },
  {
   "cell_type": "code",
   "execution_count": 4,
   "metadata": {},
   "outputs": [],
   "source": [
    "# uses seasonal_decompose to create seasonal adjustment factors\n",
    "\n",
    "def seas_exec(df_source, date_col, range_size, agg_cols, val_col):\n",
    "    \n",
    "    from statsmodels.tsa.seasonal import seasonal_decompose\n",
    "\n",
    "    agg_list= df_source[agg_cols].unique()\n",
    "\n",
    "    i = 1\n",
    "\n",
    "\n",
    "    for agg in agg_list:\n",
    "\n",
    "        df_agg_x = df_source.loc[df_source[agg_cols] == agg]\n",
    "\n",
    "        yr_limit=(df_agg_x[date_col]\n",
    "                  .sort_values(ascending = False)\n",
    "                  .values[len(df_agg_x[date_col])-1]\n",
    "                  .astype('datetime64[Y]')\n",
    "                  .astype(int)+ 1970+range_size)\n",
    "\n",
    "        yr_start = (df_agg_x[date_col]\n",
    "                    .sort_values(ascending = False)\n",
    "                    .values[0]\n",
    "                    .astype('datetime64[Y]')\n",
    "                    .astype(int) + 1970)\n",
    "\n",
    "        if yr_limit <= yr_start:\n",
    "\n",
    "            for yr in range(yr_start, yr_limit, -1):\n",
    "\n",
    "                df_x=(df_agg_x.\n",
    "                      loc[(df_agg_x.date.dt.year <= yr) & (df_agg_x.date.dt.year >= yr-range_size)]\n",
    "                      .sort_values(by = date_col))\n",
    "                \n",
    "\n",
    "                if df_x.volume.min() > 0:\n",
    "\n",
    "                    decomp=seasonal_decompose(df_x[val_col], 'multiplicative', period = 12, two_sided = True)\n",
    "\n",
    "                    df_x['seasonal'] = decomp.seasonal\n",
    "\n",
    "\n",
    "                else:\n",
    "\n",
    "                    decomp=seasonal_decompose(df_x[val_col]+1, 'multiplicative', period = 12, two_sided = True)                \n",
    "                    df_x['seasonal'] = decomp.seasonal\n",
    "   \n",
    "\n",
    "                if i == 1:\n",
    "\n",
    "                    df_x_sa=df_x.loc[df_x.date.dt.year == yr]\n",
    "\n",
    "                    i = 2\n",
    "\n",
    "                else:\n",
    "\n",
    "                    df_x_sa=df_x_sa.append(df_x.loc[df_x.date.dt.year == yr])\n",
    "                    \n",
    "    df_x_sa['seasonally_adjusted']=df_x_sa[val_col]/df_x_sa.seasonal\n",
    "                    \n",
    "    return df_x_sa.sort_values(by = date_col)"
   ]
  },
  {
   "cell_type": "markdown",
   "metadata": {},
   "source": [
    "# Settings"
   ]
  },
  {
   "cell_type": "code",
   "execution_count": 5,
   "metadata": {},
   "outputs": [],
   "source": [
    "website = \"https://www.acea.be/uploads/statistic_documents/1990%E2%80%932019_PC_by_country_EU%2BEFTA.xlsx\"\n",
    "date_col = 'date'\n",
    "val_col = 'volume'\n",
    "cat_col = 'Country'\n",
    "range_set = 4 # gives the number of years used to determime seasonality"
   ]
  },
  {
   "cell_type": "markdown",
   "metadata": {},
   "source": [
    "# wrapper function"
   ]
  },
  {
   "cell_type": "code",
   "execution_count": 6,
   "metadata": {},
   "outputs": [],
   "source": [
    "df=seas_exec(\n",
    "    seas_prep(\n",
    "        wide_to_long(\n",
    "            pd.concat(\n",
    "                pd.read_excel(\n",
    "                    requests.get(website).content, \n",
    "                    sheet_name=None, skiprows=1, header=1), ignore_index=True)\n",
    "            .drop(columns = 'FY', index=1),\n",
    "            '00', date_col, val_col)\n",
    "        , date_col, cat_col, val_col)\n",
    "    , date_col, range_set, cat_col, val_col)"
   ]
  },
  {
   "cell_type": "markdown",
   "metadata": {},
   "source": [
    "# Display Results"
   ]
  },
  {
   "cell_type": "code",
   "execution_count": 11,
   "metadata": {},
   "outputs": [],
   "source": [
    "sns.set_theme()"
   ]
  },
  {
   "cell_type": "code",
   "execution_count": 14,
   "metadata": {},
   "outputs": [],
   "source": [
    "def f(c):\n",
    "\n",
    "    fig, (ax1, ax2) = plt.subplots(2,1, figsize=(14,8))\n",
    "    \n",
    "    x=df['date'].loc[df.Country==c]\n",
    "    y=df['volume'].loc[df.Country==c]\n",
    "    y2=df['seasonally_adjusted'].loc[df.Country==c]\n",
    "    y3=df['seasonal'].loc[df.Country==c]\n",
    "    \n",
    "    fig.suptitle('Seasonal Decomposition Results')\n",
    "    \n",
    "    ax1.set_title('Raw Series vs. Seasonally-Adjusted Series')\n",
    "    ax2.set_title('Seasonal Factors')\n",
    "    \n",
    "    ax1.plot(x, y,\n",
    "             x, y2)\n",
    "    ax2.plot(x, y3)"
   ]
  },
  {
   "cell_type": "code",
   "execution_count": 15,
   "metadata": {},
   "outputs": [
    {
     "data": {
      "application/vnd.jupyter.widget-view+json": {
       "model_id": "6d03f4afb7814a8eb656122c0084399c",
       "version_major": 2,
       "version_minor": 0
      },
      "text/plain": [
       "interactive(children=(Dropdown(description='c', options=('Austria', 'Belgium', 'Bulgaria', 'Croatia', 'Czech R…"
      ]
     },
     "metadata": {},
     "output_type": "display_data"
    },
    {
     "data": {
      "text/plain": [
       "<function __main__.f(c)>"
      ]
     },
     "execution_count": 15,
     "metadata": {},
     "output_type": "execute_result"
    }
   ],
   "source": [
    "interact(f, c=sorted(df.Country.unique()))"
   ]
  },
  {
   "cell_type": "markdown",
   "metadata": {},
   "source": [
    "# Output Results"
   ]
  },
  {
   "cell_type": "code",
   "execution_count": 9,
   "metadata": {},
   "outputs": [],
   "source": [
    "df.to_csv('df.csv')"
   ]
  }
 ],
 "metadata": {
  "kernelspec": {
   "display_name": "Python 3",
   "language": "python",
   "name": "python3"
  },
  "language_info": {
   "codemirror_mode": {
    "name": "ipython",
    "version": 3
   },
   "file_extension": ".py",
   "mimetype": "text/x-python",
   "name": "python",
   "nbconvert_exporter": "python",
   "pygments_lexer": "ipython3",
   "version": "3.7.6"
  }
 },
 "nbformat": 4,
 "nbformat_minor": 4
}

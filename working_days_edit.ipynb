{
 "cells": [
  {
   "cell_type": "markdown",
   "metadata": {},
   "source": [
    "# Import Libraries"
   ]
  },
  {
   "cell_type": "code",
   "execution_count": 1,
   "metadata": {},
   "outputs": [],
   "source": [
    "import requests # allows for interacting with websites to grab data\n",
    "import pandas as pd \n",
    "import numpy as np\n",
    "\n",
    "import warnings # these lines remove 'A value is trying to be set on a copy of a slice from a DataFrame.' warning \n",
    "from pandas.core.common import SettingWithCopyWarning\n",
    "warnings.simplefilter(action=\"ignore\", category=SettingWithCopyWarning)\n",
    "\n",
    "import ipywidgets as widgets # interaction with chart\n",
    "from ipywidgets import interact, interactive, fixed, interact_manual\n",
    "\n",
    "import seaborn as sns # style\n",
    "\n",
    "from datetime import date, datetime, timedelta\n",
    "pd.set_option('display.max_rows', 200)"
   ]
  },
  {
   "cell_type": "markdown",
   "metadata": {},
   "source": [
    "# Load Functions"
   ]
  },
  {
   "cell_type": "code",
   "execution_count": 2,
   "metadata": {},
   "outputs": [],
   "source": [
    "from seas_function import iso_country, wide_to_long, seas_prep, seas_exec, working_days, calendar_adjust, disp_results"
   ]
  },
  {
   "cell_type": "markdown",
   "metadata": {},
   "source": [
    "# Settings"
   ]
  },
  {
   "cell_type": "code",
   "execution_count": 3,
   "metadata": {},
   "outputs": [],
   "source": [
    "website = \"https://www.acea.be/uploads/statistic_documents/1990%E2%80%932019_PC_by_country_EU%2BEFTA.xlsx\"\n",
    "date_col = 'date'\n",
    "val_col = 'volume'\n",
    "val_ca= 'volume_ca'\n",
    "cat_col = 'country'\n",
    "range_set = 6 # gives the number of years used to determime seasonality\n",
    "\n",
    "sns.set_theme()"
   ]
  },
  {
   "cell_type": "markdown",
   "metadata": {},
   "source": [
    "# wrapper function"
   ]
  },
  {
   "cell_type": "code",
   "execution_count": 4,
   "metadata": {},
   "outputs": [],
   "source": [
    "df=calendar_adjust(\n",
    "    working_days(\n",
    "    iso_country(\n",
    "    wide_to_long(\n",
    "    pd.concat(pd.read_excel(requests.get(website).content, sheet_name=None, \n",
    "                            skiprows=1, header=1), ignore_index=True).drop(columns = 'FY', index=1),\n",
    "    '00', date_col, val_col).\n",
    "        rename(columns=str.lower),\n",
    "        cat_col),\n",
    "        date_col), cat_col, val_ca, val_col)\n",
    "\n",
    "# returns datafram with ACEA data and ISO naming conventions"
   ]
  },
  {
   "cell_type": "code",
   "execution_count": 5,
   "metadata": {},
   "outputs": [],
   "source": [
    "df_sa=seas_exec(seas_prep(df,\n",
    "             date_col, \n",
    "             cat_col, \n",
    "             val_ca), date_col, range_set, cat_col, val_ca)"
   ]
  },
  {
   "cell_type": "code",
   "execution_count": 6,
   "metadata": {},
   "outputs": [],
   "source": [
    "df=pd.merge(df, \n",
    "            df_sa[{'date', 'country','seasonal', 'volume_sa'}], \n",
    "            left_on = ['date', 'country'], \n",
    "            right_on = ['date', 'country'])\n",
    "\n",
    "df['csf']=df.calendar_factor*df.seasonal"
   ]
  },
  {
   "cell_type": "markdown",
   "metadata": {},
   "source": [
    "# Display Results"
   ]
  },
  {
   "cell_type": "code",
   "execution_count": 10,
   "metadata": {},
   "outputs": [],
   "source": [
    "def disp_results(c):\n",
    "    \n",
    "    import matplotlib.pyplot as plt # display results\n",
    "\n",
    "    fig, (ax1, ax2, ax3) = plt.subplots(3,1, figsize=(12,12))\n",
    "    \n",
    "    x=df['date'].loc[df.country==c]\n",
    "    y=df['volume'].loc[df.country==c]\n",
    "    y2=df['volume_sa'].loc[df.country==c]\n",
    "    y3=df['seasonal'].loc[df.country==c]\n",
    "    y4=df['calendar_factor'].loc[df.country==c]\n",
    "    y5=df.csf.loc[df.country==c]\n",
    "    \n",
    "    ax1.set_title('Raw Series vs. Adjusted Series')\n",
    "    ax2.set_title('Combined Factor')\n",
    "    ax3.set_title('seasonal factor and calendar factor')\n",
    "    \n",
    "    ax1.plot(x, y,\n",
    "             x, y2)\n",
    "    ax2.plot(x, y5)\n",
    "    ax3.plot(x, y3,\n",
    "             x, y4)"
   ]
  },
  {
   "cell_type": "code",
   "execution_count": 11,
   "metadata": {
    "scrolled": false
   },
   "outputs": [
    {
     "data": {
      "application/vnd.jupyter.widget-view+json": {
       "model_id": "5ca7c574961a49e58b1c9087aac5c1a2",
       "version_major": 2,
       "version_minor": 0
      },
      "text/plain": [
       "interactive(children=(Dropdown(description='c', options=('Austria', 'Belgium', 'Bulgaria', 'Czech Republic', '…"
      ]
     },
     "metadata": {},
     "output_type": "display_data"
    },
    {
     "data": {
      "text/plain": [
       "<function __main__.disp_results(c)>"
      ]
     },
     "execution_count": 11,
     "metadata": {},
     "output_type": "execute_result"
    }
   ],
   "source": [
    "interact(disp_results, c=sorted(df_sa.country.unique()))"
   ]
  },
  {
   "cell_type": "markdown",
   "metadata": {},
   "source": [
    "# Output Results"
   ]
  },
  {
   "cell_type": "code",
   "execution_count": null,
   "metadata": {},
   "outputs": [],
   "source": [
    "df.to_csv('df.csv')"
   ]
  }
 ],
 "metadata": {
  "kernelspec": {
   "display_name": "Python 3",
   "language": "python",
   "name": "python3"
  },
  "language_info": {
   "codemirror_mode": {
    "name": "ipython",
    "version": 3
   },
   "file_extension": ".py",
   "mimetype": "text/x-python",
   "name": "python",
   "nbconvert_exporter": "python",
   "pygments_lexer": "ipython3",
   "version": "3.7.6"
  }
 },
 "nbformat": 4,
 "nbformat_minor": 4
}
